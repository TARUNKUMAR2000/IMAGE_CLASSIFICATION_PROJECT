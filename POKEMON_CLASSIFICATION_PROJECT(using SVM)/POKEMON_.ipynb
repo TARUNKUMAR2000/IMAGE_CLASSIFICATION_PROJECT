{
 "cells": [
  {
   "cell_type": "markdown",
   "id": "intelligent-alfred",
   "metadata": {},
   "source": [
    "# Importing libraries"
   ]
  },
  {
   "cell_type": "code",
   "execution_count": 17,
   "id": "front-coalition",
   "metadata": {},
   "outputs": [],
   "source": [
    "import numpy as np\n",
    "import os\n",
    "from pathlib import Path\n",
    "import matplotlib.pyplot as plt\n",
    "from keras.preprocessing import image\n",
    "import pandas as pd"
   ]
  },
  {
   "cell_type": "markdown",
   "id": "relevant-consistency",
   "metadata": {},
   "source": [
    "# Dataset import"
   ]
  },
  {
   "cell_type": "markdown",
   "id": "subtle-railway",
   "metadata": {},
   "source": [
    "### DATASET LINK : https://www.kaggle.com/thedagger/pokemon-generation-one`"
   ]
  },
  {
   "cell_type": "code",
   "execution_count": 18,
   "id": "connected-roulette",
   "metadata": {},
   "outputs": [
    {
     "name": "stdout",
     "output_type": "stream",
     "text": [
      "296.jpg\n",
      "297.jpg\n",
      "298.jpg\n",
      "299.jpg\n",
      "300.jpg\n",
      "301.jpg\n",
      "302.jpg\n",
      "303.jpg\n",
      "304.jpg\n",
      "305.jpg\n",
      "306.jpg\n",
      "307.jpg\n",
      "308.jpg\n",
      "309.jpg\n",
      "310.jpg\n",
      "311.jpg\n",
      "312.jpg\n",
      "313.jpg\n",
      "314.jpg\n",
      "315.jpg\n",
      "316.jpg\n",
      "317.jpg\n",
      "318.jpg\n",
      "319.jpg\n",
      "320.jpg\n",
      "321.jpg\n",
      "322.jpg\n",
      "323.jpg\n",
      "324.jpg\n",
      "325.jpg\n",
      "326.jpg\n",
      "327.jpg\n",
      "328.jpg\n",
      "329.jpg\n",
      "330.jpg\n",
      "331.jpg\n",
      "332.jpg\n",
      "333.jpg\n",
      "334.jpg\n",
      "335.jpg\n",
      "336.jpg\n",
      "337.jpg\n",
      "338.jpg\n",
      "339.jpg\n",
      "340.jpg\n",
      "341.jpg\n",
      "342.jpg\n",
      "343.jpg\n",
      "344.jpg\n",
      "345.jpg\n",
      "346.jpg\n",
      "347.jpg\n",
      "348.jpg\n",
      "349.jpg\n",
      "350.jpg\n",
      "351.jpg\n",
      "352.jpg\n",
      "353.jpg\n",
      "354.jpg\n",
      "355.jpg\n",
      "356.jpg\n",
      "357.jpg\n",
      "358.jpg\n",
      "359.jpg\n",
      "360.jpg\n",
      "361.jpg\n",
      "362.jpg\n",
      "363.jpg\n",
      "364.jpg\n",
      "365.jpg\n",
      "366.jpg\n",
      "367.jpg\n",
      "368.jpg\n",
      "369.jpg\n",
      "370.jpg\n",
      "371.jpg\n",
      "372.jpg\n",
      "373.jpg\n",
      "374.jpg\n",
      "375.jpg\n",
      "376.jpg\n",
      "377.jpg\n",
      "378.jpg\n",
      "379.jpg\n",
      "380.jpg\n",
      "381.jpg\n",
      "382.jpg\n",
      "383.jpg\n",
      "384.jpg\n",
      "385.jpg\n",
      "386.jpg\n",
      "387.jpg\n",
      "388.jpg\n",
      "389.jpg\n",
      "390.jpg\n",
      "391.jpg\n",
      "392.jpg\n",
      "393.jpg\n",
      "394.jpg\n",
      "395.jpg\n",
      "396.jpg\n",
      "397.jpg\n",
      "398.jpg\n",
      "399.jpg\n",
      "400.jpg\n",
      "401.jpg\n",
      "402.jpg\n",
      "403.jpg\n",
      "404.jpg\n",
      "405.jpg\n",
      "406.jpg\n",
      "407.jpg\n",
      "408.jpg\n",
      "409.jpg\n",
      "410.jpg\n",
      "411.jpg\n",
      "412.jpg\n",
      "413.jpg\n",
      "414.jpg\n",
      "415.jpg\n",
      "416.jpg\n",
      "417.jpg\n",
      "418.jpg\n",
      "419.jpg\n",
      "420.jpg\n",
      "421.jpg\n",
      "422.jpg\n",
      "423.jpg\n",
      "424.jpg\n",
      "425.jpg\n",
      "426.jpg\n",
      "427.jpg\n",
      "428.jpg\n",
      "429.jpg\n",
      "430.jpg\n",
      "431.jpg\n",
      "432.jpg\n",
      "433.jpg\n",
      "434.jpg\n",
      "435.jpg\n",
      "436.jpg\n",
      "437.jpg\n",
      "438.jpg\n",
      "439.jpg\n",
      "440.jpg\n",
      "441.jpg\n",
      "442.jpg\n",
      "443.jpg\n",
      "444.jpg\n",
      "445.jpg\n",
      "446.jpg\n",
      "447.jpg\n",
      "448.jpg\n",
      "449.jpg\n",
      "450.jpg\n",
      "451.jpg\n",
      "452.jpg\n",
      "453.jpg\n",
      "454.jpg\n",
      "455.jpg\n",
      "456.jpg\n",
      "457.jpg\n",
      "458.jpg\n",
      "459.jpg\n",
      "460.jpg\n",
      "461.jpg\n",
      "462.jpg\n",
      "463.jpg\n",
      "464.jpg\n",
      "465.jpg\n",
      "466.jpg\n",
      "467.jpg\n",
      "468.jpg\n",
      "469.jpg\n",
      "470.jpg\n",
      "471.jpg\n",
      "472.jpg\n",
      "473.jpg\n",
      "474.jpg\n",
      "475.jpg\n",
      "476.jpg\n",
      "477.jpg\n",
      "478.jpg\n",
      "479.jpg\n",
      "480.jpg\n",
      "481.jpg\n",
      "482.jpg\n",
      "483.jpg\n",
      "484.jpg\n",
      "485.jpg\n",
      "486.jpg\n",
      "487.jpg\n",
      "488.jpg\n",
      "489.jpg\n",
      "490.jpg\n",
      "491.jpg\n",
      "492.jpg\n",
      "493.jpg\n",
      "494.jpg\n",
      "495.jpg\n",
      "496.jpg\n",
      "497.jpg\n",
      "498.jpg\n",
      "520.jpg\n",
      "521.jpg\n",
      "522.jpg\n",
      "523.jpg\n",
      "524.jpg\n",
      "525.jpg\n"
     ]
    },
    {
     "name": "stderr",
     "output_type": "stream",
     "text": [
      "c:\\users\\tarun kumar\\appdata\\local\\programs\\python\\python37\\lib\\site-packages\\PIL\\Image.py:963: UserWarning: Palette images with Transparency expressed in bytes should be converted to RGBA images\n",
      "  \"Palette images with Transparency expressed in bytes should be \"\n"
     ]
    },
    {
     "name": "stdout",
     "output_type": "stream",
     "text": [
      "526.jpg\n",
      "527.jpg\n",
      "528.jpg\n",
      "529.jpg\n",
      "530.jpg\n",
      "531.jpg\n",
      "532.jpg\n",
      "533.jpg\n",
      "534.jpg\n",
      "535.jpg\n",
      "536.jpg\n",
      "537.jpg\n",
      "538.jpg\n",
      "539.jpg\n",
      "540.jpg\n",
      "541.jpg\n",
      "542.jpg\n",
      "543.jpg\n",
      "544.jpg\n",
      "545.jpg\n",
      "546.jpg\n",
      "547.jpg\n",
      "548.jpg\n",
      "549.jpg\n",
      "550.jpg\n",
      "551.jpg\n",
      "552.jpg\n",
      "553.jpg\n",
      "554.jpg\n",
      "555.jpg\n",
      "556.jpg\n",
      "557.jpg\n",
      "558.jpg\n",
      "559.jpg\n",
      "560.jpg\n",
      "561.jpg\n",
      "562.jpg\n",
      "563.jpg\n",
      "564.jpg\n",
      "565.jpg\n",
      "566.jpg\n",
      "567.jpg\n",
      "568.jpg\n",
      "569.jpg\n",
      "570.jpg\n",
      "571.jpg\n",
      "572.jpg\n",
      "573.jpg\n",
      "574.jpg\n",
      "575.jpg\n",
      "576.jpg\n",
      "577.jpg\n",
      "578.jpg\n",
      "579.jpg\n",
      "580.jpg\n",
      "581.jpg\n",
      "582.jpg\n",
      "583.jpg\n",
      "584.jpg\n",
      "585.jpg\n",
      "586.jpg\n",
      "587.jpg\n",
      "588.jpg\n",
      "589.jpg\n",
      "590.jpg\n",
      "591.jpg\n",
      "592.jpg\n",
      "593.jpg\n",
      "594.jpg\n",
      "595.jpg\n",
      "596.jpg\n",
      "597.jpg\n",
      "598.jpg\n",
      "599.jpg\n",
      "600.jpg\n",
      "601.jpg\n",
      "602.jpg\n",
      "603.jpg\n",
      "604.jpg\n",
      "605.jpg\n",
      "606.jpg\n",
      "607.jpg\n",
      "608.jpg\n",
      "609.jpg\n",
      "610.jpg\n",
      "611.jpg\n",
      "612.jpg\n",
      "613.jpg\n",
      "614.jpg\n",
      "615.jpg\n",
      "616.jpg\n",
      "617.jpg\n",
      "618.jpg\n",
      "619.jpg\n",
      "620.jpg\n"
     ]
    }
   ],
   "source": [
    "p = Path(\"../../Downloads/Train/Images/\")\n",
    "#dirs = p.glob('*')\n",
    "\n",
    "labels_dict = {\n",
    "    \"Pikachu\":0,\n",
    "    \"Bulbasaur\":1,\n",
    "    \"Charmander\":2\n",
    "}\n",
    "\n",
    "ds = pd.read_csv(\"C:/Users/TARUN KUMAR/Downloads/Train/train.csv\")\n",
    "ds = ds.values\n",
    "\n",
    "# dicto\n",
    "dicto = {}\n",
    "for i in ds:\n",
    "    dicto[i[0]]=labels_dict[i[1]]\n",
    "    \n",
    "    \n",
    "image_data = []\n",
    "labels = []\n",
    "\n",
    "for img_path in p.glob(\"*.jpg\"):\n",
    "    label = str(img_path).split(\"\\\\\")[-1]\n",
    "    img = image.load_img(img_path,target_size=(32,32))\n",
    "    img_array = image.img_to_array(img)\n",
    "    image_data.append(img_array)\n",
    "    print(label)\n",
    "    labels.append(dicto[label])"
   ]
  },
  {
   "cell_type": "code",
   "execution_count": 19,
   "id": "corresponding-signal",
   "metadata": {},
   "outputs": [
    {
     "name": "stdout",
     "output_type": "stream",
     "text": [
      "<class 'numpy.ndarray'>\n"
     ]
    }
   ],
   "source": [
    "print(type(ds))"
   ]
  },
  {
   "cell_type": "code",
   "execution_count": 20,
   "id": "indonesian-therapy",
   "metadata": {},
   "outputs": [
    {
     "name": "stdout",
     "output_type": "stream",
     "text": [
      "304 304\n"
     ]
    }
   ],
   "source": [
    "print(len(image_data),len(labels))"
   ]
  },
  {
   "cell_type": "code",
   "execution_count": 21,
   "id": "extended-billion",
   "metadata": {},
   "outputs": [
    {
     "name": "stdout",
     "output_type": "stream",
     "text": [
      "(304, 32, 32, 3) (304,)\n"
     ]
    }
   ],
   "source": [
    "image_data = np.array(image_data,dtype='float32')/255.0\n",
    "labels = np.array(labels)\n",
    "print(image_data.shape,labels.shape)\n"
   ]
  },
  {
   "cell_type": "code",
   "execution_count": 22,
   "id": "national-clearing",
   "metadata": {},
   "outputs": [],
   "source": [
    "class SVM:\n",
    "    def __init__(self,C=1.0):\n",
    "        self.C = C\n",
    "        self.W = 0\n",
    "        self.b = 0\n",
    "        \n",
    "    def hingeLoss(self,W,b,X,Y):\n",
    "        loss = 0.0\n",
    "        loss += .5*np.dot(W,W.T)\n",
    "        \n",
    "        m = X.shape[0]\n",
    "        for i in range(m):\n",
    "            ti = Y[i]*(np.dot(W,X[i].T)+b)\n",
    "            loss += self.C *max(0,(1-ti))\n",
    "        return loss[0][0]\n",
    "    \n",
    "    def fit(self,X,Y,batch_size=50,learning_rate=0.001,maxitr=300):\n",
    "        no_of_samples = X.shape[0]\n",
    "        no_of_features = X.shape[1]\n",
    "        \n",
    "        n = learning_rate\n",
    "        c = self.C\n",
    "        # INIT the model parameters\n",
    "        W = np.zeros((1,no_of_features))\n",
    "        bais = 0\n",
    "        # Print intial loss\n",
    "       # print(self.hingeLoss(w,bais,X,Y))\n",
    "        # training from here\n",
    "        # we upadte W and B acc...\n",
    "        losses = []\n",
    "        for i in range(maxitr):\n",
    "            # training loop for parameters\n",
    "            l = self.hingeLoss(W,bais,X,Y)\n",
    "            losses.append(l)\n",
    "            ids = np.arange(no_of_samples)\n",
    "            np.random.shuffle(ids)\n",
    "            \n",
    "            # we will do batch gradient descent with random shuffling\n",
    "            for batch_start in range(0,no_of_samples,batch_size):\n",
    "                gradw=0\n",
    "                gradb=0\n",
    "                # iterate over all examples in small batch\n",
    "                for j in range(batch_start,batch_start+batch_size):\n",
    "                    if j < no_of_samples:\n",
    "                        i = ids[j]\n",
    "                        ti = Y[i]*(np.dot(W,X[i].T)+bais)\n",
    "                        \n",
    "                        if ti>1:\n",
    "                            gradb += 0\n",
    "                            gradw += 0\n",
    "                        else:\n",
    "                            gradw += c*Y[i]*X[i]\n",
    "                            gradb += c*Y[i]\n",
    "                # update parameters(Gradient for batch is ready)\n",
    "                W = W - n*W + n*gradw\n",
    "                bais = bais + n*gradb\n",
    "        self.W = W\n",
    "        self.b = bais\n",
    "        return W,bais,losses"
   ]
  },
  {
   "cell_type": "code",
   "execution_count": 23,
   "id": "sticky-cinema",
   "metadata": {},
   "outputs": [
    {
     "name": "stdout",
     "output_type": "stream",
     "text": [
      "(304, 3072)\n",
      "(304,)\n"
     ]
    }
   ],
   "source": [
    "M = image_data.shape[0]\n",
    "image_data = image_data.reshape(M,-1)\n",
    "print(image_data.shape)\n",
    "print(labels.shape)"
   ]
  },
  {
   "cell_type": "code",
   "execution_count": 24,
   "id": "conceptual-advice",
   "metadata": {},
   "outputs": [
    {
     "name": "stdout",
     "output_type": "stream",
     "text": [
      "3\n"
     ]
    }
   ],
   "source": [
    "CLASSES = len(np.unique(labels))\n",
    "print(CLASSES)"
   ]
  },
  {
   "cell_type": "code",
   "execution_count": 25,
   "id": "chronic-basket",
   "metadata": {},
   "outputs": [],
   "source": [
    "def ClassWiseData(x,y):\n",
    "    data = {}\n",
    "    \n",
    "    for i in range(CLASSES):\n",
    "        data[i] = []\n",
    "    \n",
    "    for i in range(x.shape[0]):\n",
    "        data[y[i]].append(x[i])\n",
    "        \n",
    "    for k in data.keys():\n",
    "        data[k] = np.array(data[k]) \n",
    "    return data"
   ]
  },
  {
   "cell_type": "code",
   "execution_count": 26,
   "id": "fleet-garbage",
   "metadata": {},
   "outputs": [],
   "source": [
    "data = ClassWiseData(image_data,labels)"
   ]
  },
  {
   "cell_type": "code",
   "execution_count": 27,
   "id": "sublime-enlargement",
   "metadata": {},
   "outputs": [
    {
     "name": "stdout",
     "output_type": "stream",
     "text": [
      "(101, 3072)\n",
      "(101, 3072)\n"
     ]
    }
   ],
   "source": [
    "print(data[0].shape)\n",
    "print(data[1].shape)"
   ]
  },
  {
   "cell_type": "code",
   "execution_count": 28,
   "id": "complicated-retirement",
   "metadata": {},
   "outputs": [],
   "source": [
    "def getDataPairForSvm(d1,d2):\n",
    "    l1 = d1.shape[0]\n",
    "    l2 = d2.shape[0]\n",
    "    \n",
    "    samples = l1+l2\n",
    "    features = d1.shape[1]\n",
    "    \n",
    "    data_pair = np.zeros((samples,features))\n",
    "    data_labels = np.zeros((samples,))\n",
    "    \n",
    "    data_pair[:l1,:] = d1\n",
    "    data_pair[l1:,:] = d2\n",
    "    \n",
    "    data_labels[:l1] = -1\n",
    "    data_labels[l1:] = +1\n",
    "    return data_pair,data_labels"
   ]
  },
  {
   "cell_type": "code",
   "execution_count": 29,
   "id": "exterior-reggae",
   "metadata": {},
   "outputs": [],
   "source": [
    "mySVM = SVM()\n",
    "def trainSvm(x,y):\n",
    "    svm_classifiers = {}\n",
    "    for i in range(CLASSES):\n",
    "        svm_classifiers[i] = {}\n",
    "        for j in range(i+1,CLASSES):\n",
    "            xpair,ypair = getDataPairForSvm(data[i],data[j])\n",
    "            # we have to keep learning rate less bcoz loss func is not converging\n",
    "            wts,b,loss = mySVM.fit(xpair,ypair,learning_rate=0.00001,maxitr=1000)\n",
    "            svm_classifiers[i][j] = (wts,b)\n",
    "            # plot loss\n",
    "            plt.plot(loss)\n",
    "            plt.show()\n",
    "    return svm_classifiers"
   ]
  },
  {
   "cell_type": "code",
   "execution_count": 30,
   "id": "lasting-battle",
   "metadata": {},
   "outputs": [
    {
     "data": {
      "image/png": "[encoded data removed]",
      "text/plain": [
       "<Figure size 432x288 with 1 Axes>"
      ]
     },
     "metadata": {
      "needs_background": "light"
     },
     "output_type": "display_data"
    },
    {
     "data": {
      "image/png": "[encoded data removed]",
      "text/plain": [
       "<Figure size 432x288 with 1 Axes>"
      ]
     },
     "metadata": {
      "needs_background": "light"
     },
     "output_type": "display_data"
    },
    {
     "data": {
      "image/png": "[encoded data removed]",
      "text/plain": [
       "<Figure size 432x288 with 1 Axes>"
      ]
     },
     "metadata": {
      "needs_background": "light"
     },
     "output_type": "display_data"
    }
   ],
   "source": [
    "svm_classifiers=trainSvm(image_data,labels)"
   ]
  },
  {
   "cell_type": "code",
   "execution_count": 31,
   "id": "foster-privacy",
   "metadata": {},
   "outputs": [
    {
     "name": "stdout",
     "output_type": "stream",
     "text": [
      "(304, 3072)\n"
     ]
    }
   ],
   "source": [
    "print(image_data.shape)\n",
    "def binaryPredict(x,w,b):\n",
    "    x = np.dot(x,w.T) + b\n",
    "    if x>=0:\n",
    "        return 1\n",
    "    else:\n",
    "        return -1"
   ]
  },
  {
   "cell_type": "code",
   "execution_count": 32,
   "id": "unavailable-incidence",
   "metadata": {},
   "outputs": [],
   "source": [
    "def predict(x):\n",
    "    count = np.zeros((CLASSES,))\n",
    "    \n",
    "    for i in range(CLASSES):\n",
    "        for j in range(i+1,CLASSES):\n",
    "            w,b = svm_classifiers[i][j]\n",
    "            #Take a majority prediction\n",
    "            z = binaryPredict(x,w,b)\n",
    "            \n",
    "            if(z==1):\n",
    "                count[j] += 1\n",
    "            else:\n",
    "                count[i] += 1\n",
    "    final_prediction = np.argmax(count)\n",
    "    #print(count)\n",
    "    return final_prediction"
   ]
  },
  {
   "cell_type": "markdown",
   "id": "right-terrain",
   "metadata": {},
   "source": [
    "### TEST DATA"
   ]
  },
  {
   "cell_type": "code",
   "execution_count": 33,
   "id": "emerging-mambo",
   "metadata": {},
   "outputs": [
    {
     "name": "stdout",
     "output_type": "stream",
     "text": [
      "..\\..\\Downloads\\Test\\Images\\1100.jpg\n",
      "..\\..\\Downloads\\Test\\Images\\1101.jpg\n",
      "..\\..\\Downloads\\Test\\Images\\1102.jpg\n",
      "..\\..\\Downloads\\Test\\Images\\1103.jpg\n",
      "..\\..\\Downloads\\Test\\Images\\1104.jpg\n",
      "..\\..\\Downloads\\Test\\Images\\1105.jpg\n",
      "..\\..\\Downloads\\Test\\Images\\1106.jpg\n",
      "..\\..\\Downloads\\Test\\Images\\1107.jpg\n",
      "..\\..\\Downloads\\Test\\Images\\1108.jpg\n",
      "..\\..\\Downloads\\Test\\Images\\1109.jpg\n",
      "..\\..\\Downloads\\Test\\Images\\1110.jpg\n",
      "..\\..\\Downloads\\Test\\Images\\1111.jpg\n",
      "..\\..\\Downloads\\Test\\Images\\1112.jpg\n",
      "..\\..\\Downloads\\Test\\Images\\1113.jpg\n",
      "..\\..\\Downloads\\Test\\Images\\1114.jpg\n",
      "..\\..\\Downloads\\Test\\Images\\1115.jpg\n",
      "..\\..\\Downloads\\Test\\Images\\1116.jpg\n",
      "..\\..\\Downloads\\Test\\Images\\1117.jpg\n",
      "..\\..\\Downloads\\Test\\Images\\1118.jpg\n",
      "..\\..\\Downloads\\Test\\Images\\1119.jpg\n",
      "..\\..\\Downloads\\Test\\Images\\1120.jpg\n",
      "..\\..\\Downloads\\Test\\Images\\1121.jpg\n",
      "..\\..\\Downloads\\Test\\Images\\1122.jpg\n",
      "..\\..\\Downloads\\Test\\Images\\1123.jpg\n",
      "..\\..\\Downloads\\Test\\Images\\1124.jpg\n",
      "..\\..\\Downloads\\Test\\Images\\1125.jpg\n",
      "..\\..\\Downloads\\Test\\Images\\1126.jpg\n",
      "..\\..\\Downloads\\Test\\Images\\1127.jpg\n",
      "..\\..\\Downloads\\Test\\Images\\1128.jpg\n",
      "..\\..\\Downloads\\Test\\Images\\1129.jpg\n",
      "..\\..\\Downloads\\Test\\Images\\1130.jpg\n",
      "..\\..\\Downloads\\Test\\Images\\1131.jpg\n",
      "..\\..\\Downloads\\Test\\Images\\1132.jpg\n",
      "..\\..\\Downloads\\Test\\Images\\1133.jpg\n",
      "..\\..\\Downloads\\Test\\Images\\1134.jpg\n",
      "..\\..\\Downloads\\Test\\Images\\1135.jpg\n",
      "..\\..\\Downloads\\Test\\Images\\1136.jpg\n",
      "..\\..\\Downloads\\Test\\Images\\1137.jpg\n",
      "..\\..\\Downloads\\Test\\Images\\1138.jpg\n",
      "..\\..\\Downloads\\Test\\Images\\1139.jpg\n",
      "..\\..\\Downloads\\Test\\Images\\1140.jpg\n",
      "..\\..\\Downloads\\Test\\Images\\2000.jpg\n",
      "..\\..\\Downloads\\Test\\Images\\2001.jpg\n",
      "..\\..\\Downloads\\Test\\Images\\2002.jpg\n",
      "..\\..\\Downloads\\Test\\Images\\2003.jpg\n",
      "..\\..\\Downloads\\Test\\Images\\2004.jpg\n",
      "..\\..\\Downloads\\Test\\Images\\2005.jpg\n",
      "..\\..\\Downloads\\Test\\Images\\2006.jpg\n",
      "..\\..\\Downloads\\Test\\Images\\2007.jpg\n",
      "..\\..\\Downloads\\Test\\Images\\2008.jpg\n",
      "..\\..\\Downloads\\Test\\Images\\2009.jpg\n",
      "..\\..\\Downloads\\Test\\Images\\2010.jpg\n",
      "..\\..\\Downloads\\Test\\Images\\2011.jpg\n",
      "..\\..\\Downloads\\Test\\Images\\2012.jpg\n",
      "..\\..\\Downloads\\Test\\Images\\2013.jpg\n",
      "..\\..\\Downloads\\Test\\Images\\2014.jpg\n",
      "..\\..\\Downloads\\Test\\Images\\2015.jpg\n",
      "..\\..\\Downloads\\Test\\Images\\2016.jpg\n",
      "..\\..\\Downloads\\Test\\Images\\2017.jpg\n",
      "..\\..\\Downloads\\Test\\Images\\2018.jpg\n",
      "..\\..\\Downloads\\Test\\Images\\2019.jpg\n",
      "..\\..\\Downloads\\Test\\Images\\2020.jpg\n",
      "..\\..\\Downloads\\Test\\Images\\2021.jpg\n",
      "..\\..\\Downloads\\Test\\Images\\2022.jpg\n",
      "..\\..\\Downloads\\Test\\Images\\2023.jpg\n",
      "..\\..\\Downloads\\Test\\Images\\2024.jpg\n",
      "..\\..\\Downloads\\Test\\Images\\2025.jpg\n",
      "..\\..\\Downloads\\Test\\Images\\2026.jpg\n",
      "..\\..\\Downloads\\Test\\Images\\2027.jpg\n",
      "..\\..\\Downloads\\Test\\Images\\2028.jpg\n",
      "..\\..\\Downloads\\Test\\Images\\2029.jpg\n",
      "..\\..\\Downloads\\Test\\Images\\2030.jpg\n",
      "..\\..\\Downloads\\Test\\Images\\2031.jpg\n",
      "..\\..\\Downloads\\Test\\Images\\2032.jpg\n",
      "..\\..\\Downloads\\Test\\Images\\2033.jpg\n",
      "..\\..\\Downloads\\Test\\Images\\2034.jpg\n",
      "..\\..\\Downloads\\Test\\Images\\2035.jpg\n",
      "..\\..\\Downloads\\Test\\Images\\2036.jpg\n",
      "..\\..\\Downloads\\Test\\Images\\2037.jpg\n",
      "..\\..\\Downloads\\Test\\Images\\2038.jpg\n",
      "..\\..\\Downloads\\Test\\Images\\2039.jpg\n",
      "..\\..\\Downloads\\Test\\Images\\2040.jpg\n",
      "..\\..\\Downloads\\Test\\Images\\2200.jpg\n",
      "..\\..\\Downloads\\Test\\Images\\2201.jpg\n",
      "..\\..\\Downloads\\Test\\Images\\2202.jpg\n",
      "..\\..\\Downloads\\Test\\Images\\2203.jpg\n",
      "..\\..\\Downloads\\Test\\Images\\2204.jpg\n",
      "..\\..\\Downloads\\Test\\Images\\2205.jpg\n",
      "..\\..\\Downloads\\Test\\Images\\2206.jpg\n",
      "..\\..\\Downloads\\Test\\Images\\2207.jpg\n",
      "..\\..\\Downloads\\Test\\Images\\2208.jpg\n",
      "..\\..\\Downloads\\Test\\Images\\2209.jpg\n",
      "..\\..\\Downloads\\Test\\Images\\2210.jpg\n",
      "..\\..\\Downloads\\Test\\Images\\2211.jpg\n",
      "..\\..\\Downloads\\Test\\Images\\2212.jpg\n",
      "..\\..\\Downloads\\Test\\Images\\2213.jpg\n",
      "..\\..\\Downloads\\Test\\Images\\2214.jpg\n",
      "..\\..\\Downloads\\Test\\Images\\2215.jpg\n",
      "..\\..\\Downloads\\Test\\Images\\2216.jpg\n",
      "..\\..\\Downloads\\Test\\Images\\2217.jpg\n",
      "..\\..\\Downloads\\Test\\Images\\2218.jpg\n",
      "..\\..\\Downloads\\Test\\Images\\2219.jpg\n",
      "..\\..\\Downloads\\Test\\Images\\2220.jpg\n",
      "..\\..\\Downloads\\Test\\Images\\2221.jpg\n",
      "..\\..\\Downloads\\Test\\Images\\2222.jpg\n",
      "..\\..\\Downloads\\Test\\Images\\2223.jpg\n",
      "..\\..\\Downloads\\Test\\Images\\2224.jpg\n",
      "..\\..\\Downloads\\Test\\Images\\2225.jpg\n",
      "..\\..\\Downloads\\Test\\Images\\2226.jpg\n",
      "..\\..\\Downloads\\Test\\Images\\2227.jpg\n",
      "..\\..\\Downloads\\Test\\Images\\2228.jpg\n",
      "..\\..\\Downloads\\Test\\Images\\2229.jpg\n",
      "..\\..\\Downloads\\Test\\Images\\2230.jpg\n",
      "..\\..\\Downloads\\Test\\Images\\2231.jpg\n",
      "..\\..\\Downloads\\Test\\Images\\2232.jpg\n",
      "..\\..\\Downloads\\Test\\Images\\2233.jpg\n",
      "..\\..\\Downloads\\Test\\Images\\2234.jpg\n",
      "..\\..\\Downloads\\Test\\Images\\2235.jpg\n",
      "..\\..\\Downloads\\Test\\Images\\2236.jpg\n",
      "..\\..\\Downloads\\Test\\Images\\2237.jpg\n",
      "..\\..\\Downloads\\Test\\Images\\2238.jpg\n",
      "..\\..\\Downloads\\Test\\Images\\2239.jpg\n",
      "..\\..\\Downloads\\Test\\Images\\2240.jpg\n",
      "123\n"
     ]
    }
   ],
   "source": [
    "p = Path(\"../../Downloads/Test/Images/\")\n",
    "test_data = []\n",
    "test_labels = []\n",
    "for img_path in p.glob(\"*.jpg\"):\n",
    "    label = str(img_path).split(\"\\\\\")[-1]\n",
    "    print(img_path)\n",
    "    img = image.load_img(img_path,target_size=(32,32))\n",
    "    img_array = image.img_to_array(img)\n",
    "    test_labels.append(label)\n",
    "    test_data.append(img_array)\n",
    "\n",
    "\n",
    "print(len(test_data))\n",
    "test_data = np.array(test_data,dtype='float32')/255.0\n",
    "M = test_data.shape[0]\n",
    "test_data = test_data.reshape(M,-1)"
   ]
  },
  {
   "cell_type": "code",
   "execution_count": 34,
   "id": "overall-tracker",
   "metadata": {},
   "outputs": [
    {
     "name": "stdout",
     "output_type": "stream",
     "text": [
      "(123, 3072)\n"
     ]
    }
   ],
   "source": [
    "print(test_data.shape)\n",
    "ans = []\n",
    "\n",
    "for i in test_data:\n",
    "    res=predict(i)\n",
    "    ans.append(res)"
   ]
  },
  {
   "cell_type": "code",
   "execution_count": 37,
   "id": "subject-rebound",
   "metadata": {},
   "outputs": [
    {
     "name": "stdout",
     "output_type": "stream",
     "text": [
      "[1, 1, 1, 1, 1, 1, 1, 1, 1, 1, 1, 1, 1, 1, 1, 1, 1, 1, 1, 1, 1, 1, 1, 1, 1, 1, 1, 1, 1, 1, 1, 1, 1, 1, 1, 1, 1, 1, 1, 1, 1, 0, 0, 0, 0, 0, 0, 0, 0, 0, 1, 0, 0, 0, 0, 0, 0, 0, 0, 0, 2, 0, 0, 0, 0, 0, 0, 0, 0, 0, 0, 0, 0, 0, 0, 0, 0, 0, 0, 0, 0, 0, 2, 2, 2, 2, 2, 2, 2, 2, 2, 2, 2, 2, 2, 2, 2, 2, 2, 2, 2, 2, 2, 2, 2, 2, 2, 2, 2, 2, 2, 2, 2, 1, 2, 2, 2, 2, 2, 2, 2, 2, 2]\n"
     ]
    }
   ],
   "source": [
    "res = []\n",
    "print(ans)\n",
    "for i in ans:\n",
    "    if i==0:\n",
    "        res.append(\"Pikachu\")\n",
    "    if i==1:\n",
    "        res.append( \"Bulbasaur\")\n",
    "    if i==2:\n",
    "        res.append(\"Charmander\")"
   ]
  },
  {
   "cell_type": "code",
   "execution_count": 38,
   "id": "organic-alabama",
   "metadata": {},
   "outputs": [
    {
     "name": "stdout",
     "output_type": "stream",
     "text": [
      "['1100.jpg', '1101.jpg', '1102.jpg', '1103.jpg', '1104.jpg', '1105.jpg', '1106.jpg', '1107.jpg', '1108.jpg', '1109.jpg', '1110.jpg', '1111.jpg', '1112.jpg', '1113.jpg', '1114.jpg', '1115.jpg', '1116.jpg', '1117.jpg', '1118.jpg', '1119.jpg', '1120.jpg', '1121.jpg', '1122.jpg', '1123.jpg', '1124.jpg', '1125.jpg', '1126.jpg', '1127.jpg', '1128.jpg', '1129.jpg', '1130.jpg', '1131.jpg', '1132.jpg', '1133.jpg', '1134.jpg', '1135.jpg', '1136.jpg', '1137.jpg', '1138.jpg', '1139.jpg', '1140.jpg', '2000.jpg', '2001.jpg', '2002.jpg', '2003.jpg', '2004.jpg', '2005.jpg', '2006.jpg', '2007.jpg', '2008.jpg', '2009.jpg', '2010.jpg', '2011.jpg', '2012.jpg', '2013.jpg', '2014.jpg', '2015.jpg', '2016.jpg', '2017.jpg', '2018.jpg', '2019.jpg', '2020.jpg', '2021.jpg', '2022.jpg', '2023.jpg', '2024.jpg', '2025.jpg', '2026.jpg', '2027.jpg', '2028.jpg', '2029.jpg', '2030.jpg', '2031.jpg', '2032.jpg', '2033.jpg', '2034.jpg', '2035.jpg', '2036.jpg', '2037.jpg', '2038.jpg', '2039.jpg', '2040.jpg', '2200.jpg', '2201.jpg', '2202.jpg', '2203.jpg', '2204.jpg', '2205.jpg', '2206.jpg', '2207.jpg', '2208.jpg', '2209.jpg', '2210.jpg', '2211.jpg', '2212.jpg', '2213.jpg', '2214.jpg', '2215.jpg', '2216.jpg', '2217.jpg', '2218.jpg', '2219.jpg', '2220.jpg', '2221.jpg', '2222.jpg', '2223.jpg', '2224.jpg', '2225.jpg', '2226.jpg', '2227.jpg', '2228.jpg', '2229.jpg', '2230.jpg', '2231.jpg', '2232.jpg', '2233.jpg', '2234.jpg', '2235.jpg', '2236.jpg', '2237.jpg', '2238.jpg', '2239.jpg', '2240.jpg']\n"
     ]
    }
   ],
   "source": [
    "print(test_labels)"
   ]
  },
  {
   "cell_type": "code",
   "execution_count": 72,
   "id": "referenced-capability",
   "metadata": {},
   "outputs": [],
   "source": [
    "test_labels = np.array(test_labels)\n",
    "res = np.array(res)\n",
    "data = {'ImageId':test_labels,'NameOfPokemon':res}\n",
    "ds=pd.DataFrame(data=data)"
   ]
  },
  {
   "cell_type": "code",
   "execution_count": 73,
   "id": "killing-complaint",
   "metadata": {},
   "outputs": [
    {
     "data": {
      "text/html": [
       "<div>\n",
       "<style scoped>\n",
       "    .dataframe tbody tr th:only-of-type {\n",
       "        vertical-align: middle;\n",
       "    }\n",
       "\n",
       "    .dataframe tbody tr th {\n",
       "        vertical-align: top;\n",
       "    }\n",
       "\n",
       "    .dataframe thead th {\n",
       "        text-align: right;\n",
       "    }\n",
       "</style>\n",
       "<table border=\"1\" class=\"dataframe\">\n",
       "  <thead>\n",
       "    <tr style=\"text-align: right;\">\n",
       "      <th></th>\n",
       "      <th>ImageId</th>\n",
       "      <th>NameOfPokemon</th>\n",
       "    </tr>\n",
       "  </thead>\n",
       "  <tbody>\n",
       "    <tr>\n",
       "      <th>0</th>\n",
       "      <td>1100.jpg</td>\n",
       "      <td>Bulbasaur</td>\n",
       "    </tr>\n",
       "    <tr>\n",
       "      <th>1</th>\n",
       "      <td>1101.jpg</td>\n",
       "      <td>Bulbasaur</td>\n",
       "    </tr>\n",
       "    <tr>\n",
       "      <th>2</th>\n",
       "      <td>1102.jpg</td>\n",
       "      <td>Bulbasaur</td>\n",
       "    </tr>\n",
       "    <tr>\n",
       "      <th>3</th>\n",
       "      <td>1103.jpg</td>\n",
       "      <td>Bulbasaur</td>\n",
       "    </tr>\n",
       "    <tr>\n",
       "      <th>4</th>\n",
       "      <td>1104.jpg</td>\n",
       "      <td>Bulbasaur</td>\n",
       "    </tr>\n",
       "    <tr>\n",
       "      <th>...</th>\n",
       "      <td>...</td>\n",
       "      <td>...</td>\n",
       "    </tr>\n",
       "    <tr>\n",
       "      <th>118</th>\n",
       "      <td>2236.jpg</td>\n",
       "      <td>Charmander</td>\n",
       "    </tr>\n",
       "    <tr>\n",
       "      <th>119</th>\n",
       "      <td>2237.jpg</td>\n",
       "      <td>Charmander</td>\n",
       "    </tr>\n",
       "    <tr>\n",
       "      <th>120</th>\n",
       "      <td>2238.jpg</td>\n",
       "      <td>Charmander</td>\n",
       "    </tr>\n",
       "    <tr>\n",
       "      <th>121</th>\n",
       "      <td>2239.jpg</td>\n",
       "      <td>Charmander</td>\n",
       "    </tr>\n",
       "    <tr>\n",
       "      <th>122</th>\n",
       "      <td>2240.jpg</td>\n",
       "      <td>Charmander</td>\n",
       "    </tr>\n",
       "  </tbody>\n",
       "</table>\n",
       "<p>123 rows × 2 columns</p>\n",
       "</div>"
      ],
      "text/plain": [
       "      ImageId NameOfPokemon\n",
       "0    1100.jpg     Bulbasaur\n",
       "1    1101.jpg     Bulbasaur\n",
       "2    1102.jpg     Bulbasaur\n",
       "3    1103.jpg     Bulbasaur\n",
       "4    1104.jpg     Bulbasaur\n",
       "..        ...           ...\n",
       "118  2236.jpg    Charmander\n",
       "119  2237.jpg    Charmander\n",
       "120  2238.jpg    Charmander\n",
       "121  2239.jpg    Charmander\n",
       "122  2240.jpg    Charmander\n",
       "\n",
       "[123 rows x 2 columns]"
      ]
     },
     "execution_count": 73,
     "metadata": {},
     "output_type": "execute_result"
    }
   ],
   "source": []
  },
  {
   "cell_type": "code",
   "execution_count": 69,
   "id": "accompanied-tournament",
   "metadata": {},
   "outputs": [],
   "source": [
    "### import test set"
   ]
  },
  {
   "cell_type": "code",
   "execution_count": 76,
   "id": "meaning-broadcast",
   "metadata": {},
   "outputs": [],
   "source": [
    "test_cv = pd.read_csv(\"C:/Users/TARUN KUMAR/Downloads/Test/Sample_submission.csv\")\n",
    "test_cv=test_cv.drop('NameOfPokemon',axis=1)"
   ]
  },
  {
   "cell_type": "code",
   "execution_count": null,
   "id": "threaded-timothy",
   "metadata": {},
   "outputs": [],
   "source": []
  },
  {
   "cell_type": "code",
   "execution_count": 82,
   "id": "precise-rubber",
   "metadata": {},
   "outputs": [],
   "source": [
    "tar=test_cv.merge(ds)"
   ]
  },
  {
   "cell_type": "code",
   "execution_count": 84,
   "id": "essential-azerbaijan",
   "metadata": {},
   "outputs": [],
   "source": [
    "tar.to_csv(\"ans.csv\",index=False)"
   ]
  },
  {
   "cell_type": "code",
   "execution_count": null,
   "id": "tired-jason",
   "metadata": {},
   "outputs": [],
   "source": []
  }
 ],
 "metadata": {
  "kernelspec": {
   "display_name": "Python 3",
   "language": "python",
   "name": "python3"
  },
  "language_info": {
   "codemirror_mode": {
    "name": "ipython",
    "version": 3
   },
   "file_extension": ".py",
   "mimetype": "text/x-python",
   "name": "python",
   "nbconvert_exporter": "python",
   "pygments_lexer": "ipython3",
   "version": "3.7.3"
  }
 },
 "nbformat": 4,
 "nbformat_minor": 5
}
