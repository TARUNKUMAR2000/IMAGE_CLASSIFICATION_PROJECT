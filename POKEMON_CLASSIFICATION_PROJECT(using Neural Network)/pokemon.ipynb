{
 "cells": [
  {
   "cell_type": "markdown",
   "id": "fifteen-health",
   "metadata": {},
   "source": [
    "### POKEMON CLASSIFICATION USING NEURAL NETWORK"
   ]
  },
  {
   "cell_type": "code",
   "execution_count": null,
   "id": "interstate-allowance",
   "metadata": {},
   "outputs": [],
   "source": [
    "import os\n",
    "from pathlib import Path\n",
    "from keras.preprocessing import image\n",
    "import matplotlib.pyplot as plt"
   ]
  },
  {
   "cell_type": "markdown",
   "id": "figured-salem",
   "metadata": {},
   "source": [
    "### DATASET LINK : https://www.kaggle.com/thedagger/pokemon-generation-one`"
   ]
  },
  {
   "cell_type": "code",
   "execution_count": 38,
   "id": "drawn-sight",
   "metadata": {},
   "outputs": [
    {
     "name": "stdout",
     "output_type": "stream",
     "text": [
      "datasetpok\n",
      "{'Abra': 0, 'Aerodactyl': 1, 'Alakazam': 2, 'Arbok': 3, 'Arcanine': 4, 'Articuno': 5, 'Beedrill': 6, 'Bellsprout': 7, 'Blastoise': 8, 'Bulbasaur': 9, 'Butterfree': 10, 'Caterpie': 11, 'Chansey': 12, 'Charizard': 13, 'Charmander': 14, 'Charmeleon': 15, 'Clefable': 16, 'Clefairy': 17, 'Cloyster': 18, 'Cubone': 19, 'dataset': 20, 'Dewgong': 21, 'Diglett': 22, 'Ditto': 23, 'Dodrio': 24, 'Doduo': 25, 'Dragonair': 26, 'Dragonite': 27, 'Dratini': 28, 'Drowzee': 29, 'Dugtrio': 30, 'Eevee': 31, 'Ekans': 32, 'Electabuzz': 33, 'Electrode': 34, 'Exeggcute': 35, 'Exeggutor': 36, 'Farfetchd': 37, 'Fearow': 38, 'Flareon': 39, 'Gastly': 40, 'Gengar': 41, 'Geodude': 42, 'Gloom': 43, 'Golbat': 44, 'Goldeen': 45, 'Golduck': 46, 'Golem': 47, 'Graveler': 48, 'Grimer': 49, 'Growlithe': 50, 'Gyarados': 51, 'Haunter': 52, 'Hitmonchan': 53, 'Hitmonlee': 54, 'Horsea': 55, 'Hypno': 56, 'Ivysaur': 57, 'Jigglypuff': 58, 'Jolteon': 59, 'Jynx': 60, 'Kabuto': 61, 'Kabutops': 62, 'Kadabra': 63, 'Kakuna': 64, 'Kangaskhan': 65, 'Kingler': 66, 'Koffing': 67, 'Krabby': 68, 'Lapras': 69, 'Lickitung': 70, 'Machamp': 71, 'Machoke': 72, 'Machop': 73, 'Magikarp': 74, 'Magmar': 75, 'Magnemite': 76, 'Magneton': 77, 'Mankey': 78, 'Marowak': 79, 'Meowth': 80, 'Metapod': 81, 'Mew': 82, 'Mewtwo': 83, 'Moltres': 84, 'MrMime': 85, 'Muk': 86, 'Nidoking': 87, 'Nidoqueen': 88, 'Nidorina': 89, 'Nidorino': 90, 'Ninetales': 91, 'Oddish': 92, 'Omanyte': 93, 'Omastar': 94, 'Onix': 95, 'Paras': 96, 'Parasect': 97, 'Persian': 98, 'Pidgeot': 99, 'Pidgeotto': 100, 'Pidgey': 101, 'Pikachu': 102, 'Pinsir': 103, 'Poliwag': 104, 'Poliwhirl': 105, 'Poliwrath': 106, 'Ponyta': 107, 'Porygon': 108, 'Primeape': 109, 'Psyduck': 110, 'Raichu': 111, 'Rapidash': 112, 'Raticate': 113, 'Rattata': 114, 'Rhydon': 115, 'Rhyhorn': 116, 'Sandshrew': 117, 'Sandslash': 118, 'Scyther': 119, 'Seadra': 120, 'Seaking': 121, 'Seel': 122, 'Shellder': 123, 'Slowbro': 124, 'Slowpoke': 125, 'Snorlax': 126, 'Spearow': 127, 'Squirtle': 128, 'Starmie': 129, 'Staryu': 130, 'Tangela': 131, 'Tauros': 132, 'Tentacool': 133, 'Tentacruel': 134, 'Vaporeon': 135, 'Venomoth': 136, 'Venonat': 137, 'Venusaur': 138, 'Victreebel': 139, 'Vileplume': 140, 'Voltorb': 141, 'Vulpix': 142, 'Wartortle': 143, 'Weedle': 144, 'Weepinbell': 145, 'Weezing': 146, 'Wigglytuff': 147, 'Zapdos': 148, 'Zubat': 149}\n"
     ]
    }
   ],
   "source": [
    "p = Path(\"./datasetpok/\")\n",
    "print(p)\n",
    "dirs = p.glob(\"*\")\n",
    "\n",
    "image_data = []\n",
    "labels = []\n",
    "# one optional\n",
    "image_path = []\n",
    "\n",
    "# make label_dict\n",
    "label_dict = {}\n",
    "dict_to_label = {}\n",
    "count = 0\n",
    "for folder_dir in dirs:\n",
    "    label = str(folder_dir).split(\"\\\\\")[-1]\n",
    "    labels.append(label)\n",
    "    label_dict[label] = count\n",
    "    dict_to_label[count] = label\n",
    "    count += 1\n",
    "print(label_dict)"
   ]
  },
  {
   "cell_type": "code",
   "execution_count": 3,
   "id": "minimal-christian",
   "metadata": {},
   "outputs": [
    {
     "name": "stdout",
     "output_type": "stream",
     "text": [
      "<generator object Path.glob at 0x0000026483CED138>\n",
      "datasetpok\\Abra\n",
      "41\n",
      "datasetpok\\Aerodactyl\n",
      "97\n",
      "datasetpok\\Alakazam\n",
      "48\n",
      "datasetpok\\Arbok\n",
      "63\n",
      "datasetpok\\Arcanine\n",
      "61\n",
      "datasetpok\\Articuno\n",
      "56\n",
      "datasetpok\\Beedrill\n",
      "53\n",
      "datasetpok\\Bellsprout\n",
      "55\n",
      "datasetpok\\Blastoise\n",
      "61\n",
      "datasetpok\\Bulbasaur\n",
      "176\n",
      "datasetpok\\Butterfree\n",
      "66\n",
      "datasetpok\\Caterpie\n",
      "49\n",
      "datasetpok\\Chansey\n",
      "57\n",
      "datasetpok\\Charizard\n",
      "52\n",
      "datasetpok\\Charmander\n",
      "200\n",
      "datasetpok\\Charmeleon\n",
      "65\n",
      "datasetpok\\Clefable\n",
      "49\n",
      "datasetpok\\Clefairy\n",
      "59\n",
      "datasetpok\\Cloyster\n",
      "59\n",
      "datasetpok\\Cubone\n",
      "58\n",
      "datasetpok\\dataset\n",
      "0\n",
      "datasetpok\\Dewgong\n",
      "66\n",
      "datasetpok\\Diglett\n",
      "51\n",
      "datasetpok\\Ditto\n",
      "48\n",
      "datasetpok\\Dodrio\n",
      "65\n",
      "datasetpok\\Doduo\n",
      "48\n",
      "datasetpok\\Dragonair\n",
      "65\n",
      "datasetpok\\Dragonite\n",
      "62\n",
      "datasetpok\\Dratini\n",
      "107\n",
      "datasetpok\\Drowzee\n",
      "60\n",
      "datasetpok\\Dugtrio\n",
      "64\n",
      "datasetpok\\Eevee\n",
      "41\n",
      "datasetpok\\Ekans\n",
      "51\n",
      "datasetpok\\Electabuzz\n",
      "53\n",
      "datasetpok\\Electrode\n",
      "67\n",
      "datasetpok\\Exeggcute\n",
      "57\n",
      "datasetpok\\Exeggutor\n",
      "67\n",
      "datasetpok\\Farfetchd\n",
      "64\n",
      "datasetpok\\Fearow\n",
      "122\n",
      "datasetpok\\Flareon\n",
      "59\n",
      "datasetpok\\Gastly\n",
      "50\n",
      "datasetpok\\Gengar\n",
      "60\n",
      "datasetpok\\Geodude\n",
      "56\n",
      "datasetpok\\Gloom\n",
      "58\n",
      "datasetpok\\Golbat\n",
      "67\n",
      "datasetpok\\Goldeen\n",
      "58\n",
      "datasetpok\\Golduck\n",
      "60\n",
      "datasetpok\\Golem\n",
      "64\n",
      "datasetpok\\Graveler\n",
      "57\n",
      "datasetpok\\Grimer\n",
      "64\n",
      "datasetpok\\Growlithe\n",
      "68\n",
      "datasetpok\\Gyarados\n",
      "67\n",
      "datasetpok\\Haunter\n",
      "63\n",
      "datasetpok\\Hitmonchan\n",
      "61\n",
      "datasetpok\\Hitmonlee\n",
      "65\n",
      "datasetpok\\Horsea\n",
      "63\n",
      "datasetpok\\Hypno\n",
      "62\n",
      "datasetpok\\Ivysaur\n",
      "53\n",
      "datasetpok\\Jigglypuff\n",
      "64\n",
      "datasetpok\\Jolteon\n",
      "64\n",
      "datasetpok\\Jynx\n",
      "58\n",
      "datasetpok\\Kabuto\n",
      "56\n",
      "datasetpok\\Kabutops\n",
      "65\n",
      "datasetpok\\Kadabra\n",
      "60\n",
      "datasetpok\\Kakuna\n",
      "67\n",
      "datasetpok\\Kangaskhan\n",
      "62\n",
      "datasetpok\\Kingler\n",
      "68\n",
      "datasetpok\\Koffing\n",
      "65\n",
      "datasetpok\\Krabby\n",
      "64\n",
      "datasetpok\\Lapras\n",
      "71\n",
      "datasetpok\\Lickitung\n",
      "67\n",
      "datasetpok\\Machamp\n",
      "71\n",
      "datasetpok\\Machoke\n",
      "51\n",
      "datasetpok\\Machop\n",
      "53\n",
      "datasetpok\\Magikarp\n",
      "59\n",
      "datasetpok\\Magmar\n",
      "59\n",
      "datasetpok\\Magnemite\n",
      "60\n",
      "datasetpok\\Magneton\n",
      "58\n",
      "datasetpok\\Mankey\n",
      "71\n",
      "datasetpok\\Marowak\n",
      "70\n",
      "datasetpok\\Meowth\n",
      "70\n",
      "datasetpok\\Metapod\n",
      "65\n",
      "datasetpok\\Mew\n",
      "67\n",
      "datasetpok\\Mewtwo\n",
      "192\n",
      "datasetpok\\Moltres\n",
      "62\n",
      "datasetpok\\MrMime\n",
      "58\n",
      "datasetpok\\Muk\n",
      "70\n",
      "datasetpok\\Nidoking\n",
      "68\n",
      "datasetpok\\Nidoqueen\n",
      "65\n",
      "datasetpok\\Nidorina\n",
      "58\n",
      "datasetpok\\Nidorino\n",
      "63\n",
      "datasetpok\\Ninetales\n",
      "73\n",
      "datasetpok\\Oddish\n",
      "66\n",
      "datasetpok\\Omanyte\n",
      "55\n",
      "datasetpok\\Omastar\n",
      "56\n",
      "datasetpok\\Onix\n",
      "64\n",
      "datasetpok\\Paras\n",
      "55\n",
      "datasetpok\\Parasect\n",
      "52\n",
      "datasetpok\\Persian\n",
      "57\n",
      "datasetpok\\Pidgeot\n",
      "66\n",
      "datasetpok\\Pidgeotto\n",
      "63\n",
      "datasetpok\\Pidgey\n",
      "74\n",
      "datasetpok\\Pikachu\n",
      "199\n",
      "datasetpok\\Pinsir\n",
      "63\n",
      "datasetpok\\Poliwag\n",
      "62\n",
      "datasetpok\\Poliwhirl\n",
      "63\n",
      "datasetpok\\Poliwrath\n",
      "63\n",
      "datasetpok\\Ponyta\n",
      "66\n",
      "datasetpok\\Porygon\n",
      "55\n",
      "datasetpok\\Primeape\n",
      "69\n",
      "datasetpok\\Psyduck\n",
      "158\n",
      "datasetpok\\Raichu\n",
      "71\n",
      "datasetpok\\Rapidash\n",
      "83\n",
      "datasetpok\\Raticate\n",
      "70\n",
      "datasetpok\\Rattata\n",
      "67\n",
      "datasetpok\\Rhydon\n",
      "59\n",
      "datasetpok\\Rhyhorn\n",
      "69\n",
      "datasetpok\\Sandshrew\n",
      "66\n",
      "datasetpok\\Sandslash\n",
      "71\n",
      "datasetpok\\Scyther\n",
      "66\n",
      "datasetpok\\Seadra\n",
      "67\n",
      "datasetpok\\Seaking\n",
      "65\n",
      "datasetpok\\Seel\n",
      "61\n",
      "datasetpok\\Shellder\n",
      "81\n",
      "datasetpok\\Slowbro\n",
      "63\n",
      "datasetpok\\Slowpoke\n",
      "60\n",
      "datasetpok\\Snorlax\n",
      "69\n",
      "datasetpok\\Spearow\n",
      "130\n",
      "datasetpok\\Squirtle\n",
      "186\n",
      "datasetpok\\Starmie\n",
      "59\n",
      "datasetpok\\Staryu\n",
      "60\n",
      "datasetpok\\Tangela\n",
      "63\n",
      "datasetpok\\Tauros\n",
      "67\n",
      "datasetpok\\Tentacool\n",
      "57\n",
      "datasetpok\\Tentacruel\n",
      "56\n",
      "datasetpok\\Vaporeon\n",
      "68\n",
      "datasetpok\\Venomoth\n",
      "65\n",
      "datasetpok\\Venonat\n",
      "56\n",
      "datasetpok\\Venusaur\n",
      "66\n",
      "datasetpok\\Victreebel\n",
      "55\n",
      "datasetpok\\Vileplume\n",
      "67\n",
      "datasetpok\\Voltorb\n",
      "64\n",
      "datasetpok\\Vulpix\n",
      "67\n",
      "datasetpok\\Wartortle\n",
      "61\n",
      "datasetpok\\Weedle\n",
      "59\n",
      "datasetpok\\Weepinbell\n",
      "51\n",
      "datasetpok\\Weezing\n",
      "63\n",
      "datasetpok\\Wigglytuff\n",
      "66\n",
      "datasetpok\\Zapdos\n",
      "59\n",
      "datasetpok\\Zubat\n",
      "49\n"
     ]
    }
   ],
   "source": [
    "# iterating through all folder\n",
    "dirs = p.glob(\"*\")\n",
    "print(dirs)\n",
    "for folder_dir in dirs:\n",
    "    label = str(folder_dir).split(\"\\\\\")[-1]\n",
    "    cnt = 0\n",
    "    print(folder_dir)\n",
    "    # iterate over all images\n",
    "    for img_path in folder_dir.glob(\"*.jpg\"):\n",
    "        img = image.load_img(img_path,target_size=(40,40))\n",
    "        img_array = image.img_to_array(img)\n",
    "        image_data.append(img_array)\n",
    "        labels.append(label_dict[label])\n",
    "        cnt += 1 \n",
    "    print(cnt)\n",
    "        "
   ]
  },
  {
   "cell_type": "markdown",
   "id": "premier-ending",
   "metadata": {},
   "source": [
    "### VISUALIZING DATASET"
   ]
  },
  {
   "cell_type": "code",
   "execution_count": 4,
   "id": "large-benchmark",
   "metadata": {},
   "outputs": [],
   "source": [
    "import numpy as np"
   ]
  },
  {
   "cell_type": "code",
   "execution_count": 5,
   "id": "clear-folks",
   "metadata": {},
   "outputs": [
    {
     "name": "stdout",
     "output_type": "stream",
     "text": [
      "10120\n",
      "10120\n"
     ]
    }
   ],
   "source": [
    "print(len(image_data))\n",
    "print(len(labels))"
   ]
  },
  {
   "cell_type": "code",
   "execution_count": 6,
   "id": "willing-weapon",
   "metadata": {},
   "outputs": [],
   "source": [
    "import random\n",
    "random.seed(10)"
   ]
  },
  {
   "cell_type": "code",
   "execution_count": 7,
   "id": "growing-specification",
   "metadata": {},
   "outputs": [
    {
     "name": "stdout",
     "output_type": "stream",
     "text": [
      "(10120, 40, 40, 3)\n",
      "(10120,)\n"
     ]
    }
   ],
   "source": [
    "X = np.array(image_data)\n",
    "Y = np.array(labels)\n",
    "print(X.shape)\n",
    "print(Y.shape)\n",
    "\n",
    "from sklearn.utils import shuffle\n",
    "X,Y = shuffle(X,Y,random_state=2)\n",
    "# Normalization\n",
    "X = X/255.0"
   ]
  },
  {
   "cell_type": "code",
   "execution_count": 8,
   "id": "devoted-liabilities",
   "metadata": {},
   "outputs": [],
   "source": [
    "def drawImg(img,labels):\n",
    "    plt.title(dict_to_label[labels])\n",
    "    plt.imshow(img)\n",
    "    plt.show()"
   ]
  },
  {
   "cell_type": "code",
   "execution_count": 9,
   "id": "informative-louis",
   "metadata": {},
   "outputs": [
    {
     "data": {
      "image/png": "[encoded data removed]",
      "text/plain": [
       "<Figure size 432x288 with 1 Axes>"
      ]
     },
     "metadata": {
      "needs_background": "light"
     },
     "output_type": "display_data"
    },
    {
     "data": {
      "image/png": "[encoded data removed]",
      "text/plain": [
       "<Figure size 432x288 with 1 Axes>"
      ]
     },
     "metadata": {
      "needs_background": "light"
     },
     "output_type": "display_data"
    },
    {
     "data": {
      "image/png": "[encoded data removed]",
      "text/plain": [
       "<Figure size 432x288 with 1 Axes>"
      ]
     },
     "metadata": {
      "needs_background": "light"
     },
     "output_type": "display_data"
    },
    {
     "data": {
      "image/png": "[encoded data removed]",
      "text/plain": [
       "<Figure size 432x288 with 1 Axes>"
      ]
     },
     "metadata": {
      "needs_background": "light"
     },
     "output_type": "display_data"
    },
    {
     "data": {
      "image/png": "[encoded data removed]",
      "text/plain": [
       "<Figure size 432x288 with 1 Axes>"
      ]
     },
     "metadata": {
      "needs_background": "light"
     },
     "output_type": "display_data"
    },
    {
     "data": {
      "image/png": "[encoded data removed]",
      "text/plain": [
       "<Figure size 432x288 with 1 Axes>"
      ]
     },
     "metadata": {
      "needs_background": "light"
     },
     "output_type": "display_data"
    },
    {
     "data": {
      "image/png": "[encoded data removed]",
      "text/plain": [
       "<Figure size 432x288 with 1 Axes>"
      ]
     },
     "metadata": {
      "needs_background": "light"
     },
     "output_type": "display_data"
    },
    {
     "data": {
      "image/png": "[encoded data removed]",
      "text/plain": [
       "<Figure size 432x288 with 1 Axes>"
      ]
     },
     "metadata": {
      "needs_background": "light"
     },
     "output_type": "display_data"
    },
    {
     "data": {
      "image/png": "[encoded data removed]",
      "text/plain": [
       "<Figure size 432x288 with 1 Axes>"
      ]
     },
     "metadata": {
      "needs_background": "light"
     },
     "output_type": "display_data"
    },
    {
     "data": {
      "image/png": "[encoded data removed]",
      "text/plain": [
       "<Figure size 432x288 with 1 Axes>"
      ]
     },
     "metadata": {
      "needs_background": "light"
     },
     "output_type": "display_data"
    }
   ],
   "source": [
    "for i in range(10):\n",
    "    r = np.random.randint(400)\n",
    "    drawImg(X[r].reshape(40,40,3),Y[r])"
   ]
  },
  {
   "cell_type": "markdown",
   "id": "neither-chain",
   "metadata": {},
   "source": [
    "### SPLITTING TRAIN_TESTING"
   ]
  },
  {
   "cell_type": "code",
   "execution_count": 10,
   "id": "descending-hungary",
   "metadata": {},
   "outputs": [
    {
     "name": "stdout",
     "output_type": "stream",
     "text": [
      "(8096, 40, 40, 3) (8096,)\n",
      "(2024, 40, 40, 3) (2024,)\n"
     ]
    }
   ],
   "source": [
    "split = int(X.shape[0]*0.8)\n",
    "Xhat = np.array(X)\n",
    "Yhat = np.array(Y)\n",
    "\n",
    "# Train set\n",
    "X = Xhat[:split,:]\n",
    "Y = Yhat[:split]\n",
    "\n",
    "# Test set\n",
    "Xtest = Xhat[split:,:]\n",
    "Ytest = Yhat[split:]\n",
    "\n",
    "print(X.shape,Y.shape)\n",
    "print(Xtest.shape,Ytest.shape)"
   ]
  },
  {
   "cell_type": "code",
   "execution_count": 11,
   "id": "functioning-yacht",
   "metadata": {},
   "outputs": [],
   "source": [
    "def softmax(a):\n",
    "    epa = np.exp(a)\n",
    "    ans = epa/np.sum(epa,axis=1,keepdims=True)\n",
    "    return ans"
   ]
  },
  {
   "cell_type": "code",
   "execution_count": 12,
   "id": "similar-arrow",
   "metadata": {},
   "outputs": [],
   "source": [
    "class NeuralNetwork:\n",
    "    def __init__(self,input_size,layers,output_size):\n",
    "        np.random.seed(0)\n",
    "        model = {}\n",
    "        # first layers\n",
    "        model['W1'] = np.random.randn(input_size,layers[0])\n",
    "        model['b1'] = np.zeros((1,layers[0]))\n",
    "        # second layers\n",
    "        model['W2'] = np.random.randn(layers[0],layers[1])\n",
    "        model['b2'] = np.zeros((1,layers[1]))\n",
    "        # third layers\n",
    "        model['W3'] = np.random.randn(layers[1],output_size)\n",
    "        model['b3'] = np.zeros((1,output_size))\n",
    "        \n",
    "        self.model = model\n",
    "        self.activation_outputs = None\n",
    "    \n",
    "    def forward(self,x):\n",
    "        W1,W2,W3 = self.model['W1'],self.model['W2'],self.model['W3']\n",
    "        b1,b2,b3 = self.model['b1'],self.model['b2'],self.model['b3']\n",
    "        \n",
    "        z1 = np.dot(x,W1) + b1\n",
    "        a1 = np.tanh(z1)\n",
    "        \n",
    "        z2 = np.dot(a1,W2) + b2\n",
    "        a2 = np.tanh(z2)\n",
    "        \n",
    "        z3 = np.dot(a2,W3) + b3\n",
    "        y_ = softmax(z3)\n",
    "        \n",
    "        self.activation_outputs = (a1,a2,y_)\n",
    "        return y_\n",
    "    \n",
    "    def backward(self,x,y,learning_rate=0.001):\n",
    "        W1,W2,W3 = self.model['W1'],self.model['W2'],self.model['W3']\n",
    "        b1,b2,b3 = self.model['b1'],self.model['b2'],self.model['b3']\n",
    "        m = x.shape[0]\n",
    "        \n",
    "        a1,a2,y_ = self.activation_outputs\n",
    "        \n",
    "        delta3 = y_ - y\n",
    "        dw3 = np.dot(a2.T,delta3)\n",
    "        db3 = np.sum(delta3,axis=0)\n",
    "        \n",
    "        delta2 = (1-np.square(a2))*np.dot(delta3,W3.T)\n",
    "        dw2 = np.dot(a1.T,delta2)\n",
    "        db2 = np.sum(delta2,axis=0)\n",
    "        \n",
    "        delta1 = (1-np.square(a1))*np.dot(delta2,W2.T)\n",
    "        dw1 = np.dot(x.T,delta1)\n",
    "        db1 = np.sum(delta1,axis=0)\n",
    "        \n",
    "        # Applying gradient descdent \n",
    "        self.model['W1'] -= learning_rate*dw1\n",
    "        self.model['b1'] -= learning_rate*db1\n",
    "        \n",
    "        self.model[\"W2\"] -= learning_rate*dw2\n",
    "        self.model[\"b2\"] -= learning_rate*db2\n",
    "        \n",
    "        self.model[\"W3\"] -= learning_rate*dw3\n",
    "        self.model[\"b3\"] -= learning_rate*db3\n",
    "    \n",
    "    def predict(self,x):\n",
    "        y_out = self.forward(x)\n",
    "        return np.argmax(y_out,axis=1)\n",
    "    \n",
    "    def summary(self):\n",
    "        W1,W2,W3 = self.model['W1'],self.model['W2'],self.model['W3']\n",
    "        a1,a2,y_ = self.activation_outputs\n",
    "        \n",
    "        print(\"W1 \",W1.shape)\n",
    "        print(\"A1 \",a1.shape)\n",
    "        \n",
    "        print(\"W2 \",W2.shape)\n",
    "        print(\"A2 \",a2.shape)\n",
    "        \n",
    "        print(\"W3 \",W3.shape)\n",
    "        print(\"Y_ \",y_.shape)"
   ]
  },
  {
   "cell_type": "code",
   "execution_count": 13,
   "id": "external-accordance",
   "metadata": {},
   "outputs": [],
   "source": [
    "def loss(y_oht,p):\n",
    "    l = -np.mean(y_oht*np.log(p))\n",
    "    return l\n",
    "\n",
    "def onehot(y,depth):\n",
    "    m = y.shape[0]\n",
    "    y_oht = np.zeros((m,depth))\n",
    "    y_oht[np.arange(m),y]=1\n",
    "    return y_oht"
   ]
  },
  {
   "cell_type": "code",
   "execution_count": 14,
   "id": "compressed-quantum",
   "metadata": {},
   "outputs": [],
   "source": [
    "def train(X,Y,model,epochs,learning_rate,logs=True):\n",
    "    training_loss = []\n",
    "    \n",
    "    classes = 150\n",
    "    Y_OHT = onehot(Y,classes)\n",
    "    \n",
    "    for ix in range(epochs):\n",
    "        Y_ = model.forward(X)\n",
    "        l = loss(Y_OHT,Y_)\n",
    "        training_loss.append(l)\n",
    "        model.backward(X,Y_OHT,learning_rate)\n",
    "        \n",
    "        if(logs and ix%50==0):\n",
    "            print(\"Epoch %d Loss %.4f\"%(ix,l))\n",
    "            \n",
    "    return training_loss"
   ]
  },
  {
   "cell_type": "code",
   "execution_count": 15,
   "id": "forced-france",
   "metadata": {},
   "outputs": [],
   "source": [
    "model = NeuralNetwork(input_size=4800,layers=[300,200],output_size=150)"
   ]
  },
  {
   "cell_type": "code",
   "execution_count": 16,
   "id": "remarkable-chocolate",
   "metadata": {},
   "outputs": [
    {
     "name": "stdout",
     "output_type": "stream",
     "text": [
      "(8096, 40, 40, 3)\n"
     ]
    }
   ],
   "source": [
    "print(X.shape)"
   ]
  },
  {
   "cell_type": "code",
   "execution_count": 17,
   "id": "dressed-virus",
   "metadata": {},
   "outputs": [],
   "source": [
    "X = X.reshape(X.shape[0],-1)\n",
    "Xtest = Xtest.reshape(Xtest.shape[0],-1)"
   ]
  },
  {
   "cell_type": "code",
   "execution_count": 18,
   "id": "forty-letters",
   "metadata": {},
   "outputs": [
    {
     "name": "stdout",
     "output_type": "stream",
     "text": [
      "Epoch 0 Loss 0.2517\n",
      "Epoch 50 Loss 0.0422\n",
      "Epoch 100 Loss 0.0364\n",
      "Epoch 150 Loss 0.0333\n",
      "Epoch 200 Loss 0.0315\n",
      "Epoch 250 Loss 0.0306\n",
      "Epoch 300 Loss 0.0300\n",
      "Epoch 350 Loss 0.0295\n",
      "Epoch 400 Loss 0.0291\n",
      "Epoch 450 Loss 0.0287\n",
      "Epoch 500 Loss 0.0284\n",
      "Epoch 550 Loss 0.0282\n",
      "Epoch 600 Loss 0.0279\n",
      "Epoch 650 Loss 0.0277\n",
      "Epoch 700 Loss 0.0276\n",
      "Epoch 750 Loss 0.0274\n",
      "Epoch 800 Loss 0.0273\n",
      "Epoch 850 Loss 0.0271\n",
      "Epoch 900 Loss 0.0270\n",
      "Epoch 950 Loss 0.0269\n"
     ]
    }
   ],
   "source": [
    "l = train(X,Y,model,1000,0.0001)"
   ]
  },
  {
   "cell_type": "markdown",
   "id": "statistical-shore",
   "metadata": {},
   "source": [
    "# visualize"
   ]
  },
  {
   "cell_type": "code",
   "execution_count": 19,
   "id": "alternative-dress",
   "metadata": {},
   "outputs": [
    {
     "data": {
      "image/png": "[encoded data removed]",
      "text/plain": [
       "<Figure size 432x288 with 1 Axes>"
      ]
     },
     "metadata": {},
     "output_type": "display_data"
    }
   ],
   "source": [
    "plt.style.use(\"dark_background\")\n",
    "plt.title(\"Loss vs Epochs\")\n",
    "plt.plot(l)\n",
    "plt.show()"
   ]
  },
  {
   "cell_type": "code",
   "execution_count": 26,
   "id": "productive-business",
   "metadata": {},
   "outputs": [
    {
     "name": "stdout",
     "output_type": "stream",
     "text": [
      "Training Accuracy 19.8493\n",
      "Testing Accuracy 2.8162\n"
     ]
    }
   ],
   "source": [
    "def getaccuracy(X,Y,model):\n",
    "    outputs = model.predict(X)\n",
    "    acc = np.sum(outputs==Y)/Y.shape[0]\n",
    "    return acc\n",
    "\n",
    "print(\"Training Accuracy %.4f\"%(getaccuracy(X,Y,model)*100))\n",
    "print(\"Testing Accuracy %.4f\"%(getaccuracy(Xtest,Ytest,model)*100))"
   ]
  },
  {
   "cell_type": "markdown",
   "id": "arranged-lunch",
   "metadata": {},
   "source": [
    "### WAYS TO HANDLE OVERFITIING DATA\n",
    "- Dropouts\n",
    "- Early stopping (we make parallely a validation set and stop when validation accuray is minimum)\n",
    "- we will use keras for validation set visualization"
   ]
  },
  {
   "cell_type": "code",
   "execution_count": 32,
   "id": "unavailable-stations",
   "metadata": {},
   "outputs": [],
   "source": [
    "from sklearn.metrics import classification_report,confusion_matrix\n",
    "from visualize import plot_confusion_matrix"
   ]
  },
  {
   "cell_type": "code",
   "execution_count": 37,
   "id": "impressed-swedish",
   "metadata": {},
   "outputs": [
    {
     "name": "stdout",
     "output_type": "stream",
     "text": [
      "              precision    recall  f1-score   support\n",
      "\n",
      "           0       0.89      0.26      0.40        31\n",
      "           1       0.96      0.56      0.70        79\n",
      "           2       0.77      0.26      0.38        39\n",
      "           3       0.73      0.16      0.26        50\n",
      "           4       0.43      0.13      0.20        47\n",
      "           5       0.73      0.22      0.34        49\n",
      "           6       0.70      0.18      0.29        38\n",
      "           7       1.00      0.19      0.31        43\n",
      "           8       0.73      0.15      0.25        53\n",
      "           9       0.21      0.15      0.17       141\n",
      "          10       0.38      0.10      0.16        58\n",
      "          11       1.00      0.20      0.33        40\n",
      "          12       0.67      0.09      0.16        45\n",
      "          13       0.57      0.30      0.39        44\n",
      "          14       0.03      0.96      0.05       163\n",
      "          15       0.57      0.08      0.13        53\n",
      "          16       1.00      0.17      0.29        35\n",
      "          17       0.11      0.02      0.03        53\n",
      "          18       0.67      0.12      0.21        48\n",
      "          19       0.43      0.06      0.11        48\n",
      "          21       0.75      0.18      0.30        49\n",
      "          22       0.43      0.07      0.12        41\n",
      "          23       0.83      0.13      0.23        38\n",
      "          24       0.69      0.16      0.25        58\n",
      "          25       0.67      0.14      0.23        43\n",
      "          26       0.64      0.29      0.40        56\n",
      "          27       0.70      0.13      0.23        52\n",
      "          28       0.54      0.43      0.48        89\n",
      "          29       0.89      0.17      0.28        48\n",
      "          30       0.83      0.18      0.29        56\n",
      "          31       0.89      0.22      0.35        37\n",
      "          32       0.71      0.12      0.20        43\n",
      "          33       0.71      0.23      0.35        43\n",
      "          34       0.63      0.22      0.32        55\n",
      "          35       1.00      0.09      0.17        44\n",
      "          36       1.00      0.17      0.29        54\n",
      "          37       0.73      0.20      0.31        55\n",
      "          38       0.71      0.16      0.27        92\n",
      "          39       0.69      0.19      0.30        47\n",
      "          40       0.61      0.28      0.39        39\n",
      "          41       0.80      0.35      0.48        46\n",
      "          42       0.67      0.14      0.23        43\n",
      "          43       0.69      0.24      0.35        46\n",
      "          44       0.46      0.24      0.31        55\n",
      "          45       0.43      0.12      0.19        50\n",
      "          46       0.54      0.15      0.23        48\n",
      "          47       1.00      0.18      0.31        49\n",
      "          48       0.88      0.16      0.27        43\n",
      "          49       0.68      0.24      0.36        54\n",
      "          50       0.50      0.04      0.07        51\n",
      "          51       0.44      0.07      0.13        54\n",
      "          52       0.80      0.24      0.38        49\n",
      "          53       0.64      0.14      0.23        51\n",
      "          54       0.73      0.17      0.27        48\n",
      "          55       0.60      0.18      0.28        50\n",
      "          56       0.80      0.32      0.45        38\n",
      "          57       0.90      0.20      0.33        44\n",
      "          58       0.78      0.15      0.25        47\n",
      "          59       0.71      0.20      0.31        51\n",
      "          60       0.82      0.30      0.44        47\n",
      "          61       0.75      0.27      0.40        44\n",
      "          62       0.75      0.16      0.26        57\n",
      "          63       0.80      0.36      0.49        45\n",
      "          64       0.82      0.17      0.28        54\n",
      "          65       0.67      0.15      0.25        52\n",
      "          66       0.36      0.09      0.14        58\n",
      "          67       0.64      0.17      0.27        53\n",
      "          68       0.75      0.17      0.27        54\n",
      "          69       1.00      0.15      0.26        54\n",
      "          70       0.75      0.10      0.18        58\n",
      "          71       0.67      0.08      0.14        53\n",
      "          72       0.60      0.20      0.31        44\n",
      "          73       0.70      0.17      0.27        42\n",
      "          74       0.62      0.10      0.18        49\n",
      "          75       0.67      0.22      0.33        45\n",
      "          76       0.60      0.19      0.29        48\n",
      "          77       0.64      0.16      0.25        44\n",
      "          78       0.65      0.20      0.31        54\n",
      "          79       0.62      0.16      0.25        51\n",
      "          80       0.67      0.11      0.18        56\n",
      "          81       0.83      0.19      0.30        54\n",
      "          82       0.75      0.29      0.42        52\n",
      "          83       0.89      0.43      0.58       148\n",
      "          84       0.70      0.33      0.45        48\n",
      "          85       0.69      0.22      0.33        41\n",
      "          86       0.64      0.13      0.21        55\n",
      "          87       0.67      0.15      0.25        53\n",
      "          88       0.69      0.17      0.28        52\n",
      "          89       0.61      0.22      0.32        51\n",
      "          90       0.73      0.23      0.35        48\n",
      "          91       0.88      0.12      0.21        59\n",
      "          92       0.30      0.13      0.18        53\n",
      "          93       0.50      0.02      0.05        42\n",
      "          94       0.75      0.16      0.26        38\n",
      "          95       0.90      0.18      0.30        51\n",
      "          96       0.83      0.12      0.21        42\n",
      "          97       0.75      0.21      0.33        43\n",
      "          98       0.86      0.26      0.39        47\n",
      "          99       0.83      0.19      0.31        53\n",
      "         100       0.71      0.20      0.31        50\n",
      "         101       0.50      0.17      0.25        60\n",
      "         102       0.22      0.20      0.21       161\n",
      "         103       1.00      0.09      0.16        45\n",
      "         104       0.78      0.17      0.27        42\n",
      "         105       0.62      0.15      0.24        55\n",
      "         106       0.56      0.19      0.28        48\n",
      "         107       0.89      0.16      0.28        49\n",
      "         108       0.69      0.23      0.34        40\n",
      "         109       0.53      0.14      0.22        58\n",
      "         110       0.80      0.30      0.44       120\n",
      "         111       0.67      0.12      0.20        50\n",
      "         112       0.60      0.14      0.23        64\n",
      "         113       0.88      0.26      0.41        53\n",
      "         114       0.56      0.16      0.25        55\n",
      "         115       0.50      0.12      0.20        41\n",
      "         116       0.42      0.09      0.15        55\n",
      "         117       0.36      0.10      0.16        49\n",
      "         118       0.83      0.18      0.29        57\n",
      "         119       0.88      0.15      0.25        47\n",
      "         120       0.86      0.11      0.19        55\n",
      "         121       1.00      0.14      0.25        49\n",
      "         122       0.40      0.12      0.19        49\n",
      "         123       0.67      0.09      0.16        67\n",
      "         124       1.00      0.18      0.30        45\n",
      "         125       0.75      0.07      0.12        46\n",
      "         126       0.60      0.10      0.18        58\n",
      "         127       0.91      0.19      0.31       111\n",
      "         128       0.22      0.13      0.17       157\n",
      "         129       0.80      0.17      0.28        47\n",
      "         130       0.87      0.25      0.39        52\n",
      "         131       0.57      0.16      0.25        51\n",
      "         132       0.86      0.24      0.38        50\n",
      "         133       0.70      0.16      0.26        43\n",
      "         134       0.83      0.23      0.36        43\n",
      "         135       0.67      0.16      0.26        50\n",
      "         136       0.53      0.19      0.28        53\n",
      "         137       0.82      0.18      0.30        49\n",
      "         138       0.72      0.24      0.36        55\n",
      "         139       0.75      0.13      0.22        46\n",
      "         140       0.71      0.18      0.29        56\n",
      "         141       0.67      0.15      0.24        54\n",
      "         142       0.38      0.05      0.09        57\n",
      "         143       0.85      0.19      0.31        58\n",
      "         144       0.70      0.14      0.23        50\n",
      "         145       0.59      0.21      0.31        47\n",
      "         146       0.58      0.13      0.21        54\n",
      "         147       0.55      0.12      0.20        48\n",
      "         148       0.91      0.39      0.55        51\n",
      "         149       0.78      0.17      0.28        41\n",
      "\n",
      "    accuracy                           0.20      8096\n",
      "   macro avg       0.69      0.18      0.27      8096\n",
      "weighted avg       0.66      0.20      0.27      8096\n",
      "\n",
      "[[ 8  0  0 ...  0  0  0]\n",
      " [ 0 44  0 ...  0  0  0]\n",
      " [ 0  0 10 ...  0  0  0]\n",
      " ...\n",
      " [ 0  0  0 ...  6  0  0]\n",
      " [ 0  0  0 ...  0 20  0]\n",
      " [ 0  0  0 ...  0  0  7]]\n"
     ]
    }
   ],
   "source": [
    "outputs = model.predict(X)\n",
    "cnf_matrix =  confusion_matrix(Y,outputs)\n",
    "print(classification_report(Y,outputs))\n",
    "print(cnf_matrix)"
   ]
  },
  {
   "cell_type": "code",
   "execution_count": 39,
   "id": "changed-tribute",
   "metadata": {},
   "outputs": [
    {
     "name": "stdout",
     "output_type": "stream",
     "text": [
      "Confusion matrix, without normalization\n",
      "[[ 8  0  0 ...  0  0  0]\n",
      " [ 0 44  0 ...  0  0  0]\n",
      " [ 0  0 10 ...  0  0  0]\n",
      " ...\n",
      " [ 0  0  0 ...  6  0  0]\n",
      " [ 0  0  0 ...  0 20  0]\n",
      " [ 0  0  0 ...  0  0  7]]\n"
     ]
    },
    {
     "data": {
      "image/png": "[encoded data removed]",
      "text/plain": [
       "<Figure size 432x288 with 2 Axes>"
      ]
     },
     "metadata": {},
     "output_type": "display_data"
    }
   ],
   "source": [
    "plot_confusion_matrix(cnf_matrix,classes=labels)"
   ]
  },
  {
   "cell_type": "code",
   "execution_count": null,
   "id": "planned-twelve",
   "metadata": {},
   "outputs": [],
   "source": []
  }
 ],
 "metadata": {
  "kernelspec": {
   "display_name": "Python 3",
   "language": "python",
   "name": "python3"
  },
  "language_info": {
   "codemirror_mode": {
    "name": "ipython",
    "version": 3
   },
   "file_extension": ".py",
   "mimetype": "text/x-python",
   "name": "python",
   "nbconvert_exporter": "python",
   "pygments_lexer": "ipython3",
   "version": "3.7.3"
  }
 },
 "nbformat": 4,
 "nbformat_minor": 5
}
